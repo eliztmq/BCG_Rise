{
 "cells": [
  {
   "cell_type": "markdown",
   "id": "7f2f3744",
   "metadata": {},
   "source": [
    "<table class=\"table table-bordered\">\n",
    "    <tr>\n",
    "        <th style=\"width:300px;\">\n",
    "            <img src='./images/RISE_FFS_2_Light BG@4x.png' style=\"background-color:white; width: 100%; height: 100%; padding: 20px\">\n",
    "        </th>\n",
    "        <th style=\"text-align:center;\">\n",
    "            <h1>M1 Assessment (AI Track)</h1>\n",
    "            <h2>Computational Modelling - Statistics</h2>\n",
    "            <h3>IBF TFIP</h3>\n",
    "        </th>\n",
    "    </tr>\n",
    "</table>"
   ]
  },
  {
   "cell_type": "markdown",
   "id": "d0b70ab1",
   "metadata": {},
   "source": [
    "## Know the context\n",
    "\n",
    "You are a data scientist in a major health insurance provider in the US. They are looking to build a claims fraud detection model in a bid to make claims processing faster, more accurate, and automated.\n",
    "\n",
    "\n",
    "## Business problem\n",
    "\n",
    "1. Existing manual methods of reviewing claims for fraud is tedious, unscalable, and lacks accuracy\n",
    "2. Rule-based fraud detection methods are rigid and less readily adaptable to drifts in fraud patterns\n",
    "\n",
    "## Project objectives and description\n",
    "\n",
    "Explore the implementation of several common statistical tests (using scipy.stats) as part of the insurer's preliminary investigation into reports of potential fraudulent healthcare claims. \n"
   ]
  },
  {
   "cell_type": "markdown",
   "id": "80e2b465",
   "metadata": {},
   "source": [
    "### Initial Setup"
   ]
  },
  {
   "cell_type": "code",
   "execution_count": 2,
   "id": "cfa6d050",
   "metadata": {},
   "outputs": [],
   "source": [
    "# Import libraries\n",
    "import pandas as pd\n",
    "import numpy as np\n",
    "import os\n",
    "from scipy import stats"
   ]
  },
  {
   "cell_type": "code",
   "execution_count": 28,
   "id": "cd57d622",
   "metadata": {},
   "outputs": [],
   "source": [
    "# Read the five datasets (CSV files)\n",
    "encounters = pd.read_csv(\"./Data/encounters.csv\")\n",
    "claims = pd.read_csv(\"./Data/claims.csv\")\n",
    "organizations = pd.read_csv(\"./Data/organizations.csv\")\n",
    "patients = pd.read_csv(\"./Data/patients.csv\")\n",
    "providers = pd.read_csv(\"./Data/providers.csv\")"
   ]
  },
  {
   "cell_type": "markdown",
   "id": "a0f1fbca",
   "metadata": {},
   "source": [
    "___\n",
    "### Part 1 - Individual Provider\n",
    "- There have been rumours that a specific provider with the ID \"bb49afa2-3d8a-306c-a06e-a1715dd71af8\" is overbilling treatments for patients, resulting in allegedly excessive claim costs. In particular, the provider has been accused of having an average total claim cost that is significantly higher than other providers of the same specialty i.e., General Practice.\n",
    "- Our task is to identify the provider based on his/her details, and verify whether this accusation is true."
   ]
  },
  {
   "cell_type": "markdown",
   "id": "ccf083f9",
   "metadata": {},
   "source": [
    "#### (1.1) Details (e.g., name, organization, gender etc.) of the provider."
   ]
  },
  {
   "cell_type": "code",
   "execution_count": 14,
   "id": "46578a9a",
   "metadata": {},
   "outputs": [
    {
     "data": {
      "text/html": [
       "<div>\n",
       "<style scoped>\n",
       "    .dataframe tbody tr th:only-of-type {\n",
       "        vertical-align: middle;\n",
       "    }\n",
       "\n",
       "    .dataframe tbody tr th {\n",
       "        vertical-align: top;\n",
       "    }\n",
       "\n",
       "    .dataframe thead th {\n",
       "        text-align: right;\n",
       "    }\n",
       "</style>\n",
       "<table border=\"1\" class=\"dataframe\">\n",
       "  <thead>\n",
       "    <tr style=\"text-align: right;\">\n",
       "      <th></th>\n",
       "      <th>ID</th>\n",
       "      <th>ORGANIZATION</th>\n",
       "      <th>NAME</th>\n",
       "      <th>GENDER</th>\n",
       "      <th>SPECIALITY</th>\n",
       "      <th>ADDRESS</th>\n",
       "      <th>CITY</th>\n",
       "      <th>STATE</th>\n",
       "    </tr>\n",
       "  </thead>\n",
       "  <tbody>\n",
       "    <tr>\n",
       "      <th>46</th>\n",
       "      <td>bb49afa2-3d8a-306c-a06e-a1715dd71af8</td>\n",
       "      <td>226098a2-6a40-3588-b5bb-db56c3a30a04</td>\n",
       "      <td>Hal307 Renner328</td>\n",
       "      <td>M</td>\n",
       "      <td>GENERAL PRACTICE</td>\n",
       "      <td>235 NORTH PEARL STREET</td>\n",
       "      <td>BROCKTON</td>\n",
       "      <td>MA</td>\n",
       "    </tr>\n",
       "  </tbody>\n",
       "</table>\n",
       "</div>"
      ],
      "text/plain": [
       "                                      ID  \\\n",
       "46  bb49afa2-3d8a-306c-a06e-a1715dd71af8   \n",
       "\n",
       "                            ORGANIZATION              NAME GENDER  \\\n",
       "46  226098a2-6a40-3588-b5bb-db56c3a30a04  Hal307 Renner328      M   \n",
       "\n",
       "          SPECIALITY                 ADDRESS      CITY STATE  \n",
       "46  GENERAL PRACTICE  235 NORTH PEARL STREET  BROCKTON    MA  "
      ]
     },
     "execution_count": 14,
     "metadata": {},
     "output_type": "execute_result"
    }
   ],
   "source": [
    "# insert your code here:\n",
    "providers.loc[providers.ID == \"bb49afa2-3d8a-306c-a06e-a1715dd71af8\",:]"
   ]
  },
  {
   "cell_type": "markdown",
   "id": "c1e08a6f",
   "metadata": {},
   "source": [
    "##### Hypotheses:\n",
    "- **Null hypothesis H<sub>0</sub>**: The average total claim cost for the accused provider = The average total claim cost for other providers of the same specialty\n",
    "- **Alternative hypothesis H<sub>a</sub>**: The average total claim cost for the accused provider > The average total claim cost for other providers of the same specialty"
   ]
  },
  {
   "cell_type": "markdown",
   "id": "3da93ab7",
   "metadata": {},
   "source": [
    "#### (1.3) Providers information involved in each encounter. "
   ]
  },
  {
   "cell_type": "code",
   "execution_count": 15,
   "id": "274395d9",
   "metadata": {
    "scrolled": true
   },
   "outputs": [
    {
     "data": {
      "text/html": [
       "<div>\n",
       "<style scoped>\n",
       "    .dataframe tbody tr th:only-of-type {\n",
       "        vertical-align: middle;\n",
       "    }\n",
       "\n",
       "    .dataframe tbody tr th {\n",
       "        vertical-align: top;\n",
       "    }\n",
       "\n",
       "    .dataframe thead th {\n",
       "        text-align: right;\n",
       "    }\n",
       "</style>\n",
       "<table border=\"1\" class=\"dataframe\">\n",
       "  <thead>\n",
       "    <tr style=\"text-align: right;\">\n",
       "      <th></th>\n",
       "      <th>ID</th>\n",
       "      <th>START</th>\n",
       "      <th>STOP</th>\n",
       "      <th>PATIENT</th>\n",
       "      <th>ORGANIZATION</th>\n",
       "      <th>PROVIDER</th>\n",
       "      <th>ENCOUNTERCLASS</th>\n",
       "      <th>CODE</th>\n",
       "      <th>DESCRIPTION</th>\n",
       "      <th>BASE_ENCOUNTER_COST</th>\n",
       "      <th>TOTAL_CLAIM_COST</th>\n",
       "      <th>NAME</th>\n",
       "      <th>GENDER</th>\n",
       "      <th>SPECIALITY</th>\n",
       "      <th>ADDRESS</th>\n",
       "      <th>CITY</th>\n",
       "      <th>STATE</th>\n",
       "    </tr>\n",
       "  </thead>\n",
       "  <tbody>\n",
       "    <tr>\n",
       "      <th>0</th>\n",
       "      <td>c8eaaf41-958b-31ab-7de5-568cee8751f3</td>\n",
       "      <td>27/11/2016 17:20</td>\n",
       "      <td>27/11/2016 17:35</td>\n",
       "      <td>c1f1fcaa-82fd-d5b7-3544-c8f9708b06a8</td>\n",
       "      <td>24cb4eab-6166-3530-bddc-a5a8a14a4fc1</td>\n",
       "      <td>e2d3a787-83d4-3bd9-a769-753b3285078d</td>\n",
       "      <td>ambulatory</td>\n",
       "      <td>C185345009</td>\n",
       "      <td>Encounter for symptom</td>\n",
       "      <td>77.49</td>\n",
       "      <td>77.49</td>\n",
       "      <td>Wilton999 Pollich983</td>\n",
       "      <td>M</td>\n",
       "      <td>GENERAL PRACTICE</td>\n",
       "      <td>14 PROSPECT STREET</td>\n",
       "      <td>MILFORD</td>\n",
       "      <td>MA</td>\n",
       "    </tr>\n",
       "    <tr>\n",
       "      <th>1</th>\n",
       "      <td>6474f606-5a1b-48c0-bbbf-ad6dcbc24d4e</td>\n",
       "      <td>22/2/2017 8:52</td>\n",
       "      <td>22/2/2017 9:52</td>\n",
       "      <td>c1f1fcaa-82fd-d5b7-3544-c8f9708b06a8</td>\n",
       "      <td>24cb4eab-6166-3530-bddc-a5a8a14a4fc1</td>\n",
       "      <td>e2d3a787-83d4-3bd9-a769-753b3285078d</td>\n",
       "      <td>emergency</td>\n",
       "      <td>C50849002</td>\n",
       "      <td>Emergency room admission (procedure)</td>\n",
       "      <td>129.16</td>\n",
       "      <td>1162.46</td>\n",
       "      <td>Wilton999 Pollich983</td>\n",
       "      <td>M</td>\n",
       "      <td>GENERAL PRACTICE</td>\n",
       "      <td>14 PROSPECT STREET</td>\n",
       "      <td>MILFORD</td>\n",
       "      <td>MA</td>\n",
       "    </tr>\n",
       "    <tr>\n",
       "      <th>2</th>\n",
       "      <td>7eab9841-6b96-3c2f-d7f8-fc14a8810e68</td>\n",
       "      <td>2/6/2017 9:25</td>\n",
       "      <td>2/6/2017 9:40</td>\n",
       "      <td>c1f1fcaa-82fd-d5b7-3544-c8f9708b06a8</td>\n",
       "      <td>24cb4eab-6166-3530-bddc-a5a8a14a4fc1</td>\n",
       "      <td>e2d3a787-83d4-3bd9-a769-753b3285078d</td>\n",
       "      <td>ambulatory</td>\n",
       "      <td>C185349003</td>\n",
       "      <td>Encounter for 'check-up'</td>\n",
       "      <td>77.49</td>\n",
       "      <td>77.49</td>\n",
       "      <td>Wilton999 Pollich983</td>\n",
       "      <td>M</td>\n",
       "      <td>GENERAL PRACTICE</td>\n",
       "      <td>14 PROSPECT STREET</td>\n",
       "      <td>MILFORD</td>\n",
       "      <td>MA</td>\n",
       "    </tr>\n",
       "    <tr>\n",
       "      <th>3</th>\n",
       "      <td>676b26cf-85c1-60d8-b4b2-ed9b34d5b3a7</td>\n",
       "      <td>24/7/2017 8:20</td>\n",
       "      <td>24/7/2017 8:35</td>\n",
       "      <td>c1f1fcaa-82fd-d5b7-3544-c8f9708b06a8</td>\n",
       "      <td>620d4a8a-ef3b-30c4-9c58-a409e8f3b7f1</td>\n",
       "      <td>6240e34b-f1a6-374d-af15-dea26341ba2e</td>\n",
       "      <td>wellness</td>\n",
       "      <td>C410620009</td>\n",
       "      <td>Well child visit (procedure)</td>\n",
       "      <td>129.16</td>\n",
       "      <td>926.85</td>\n",
       "      <td>Dolores502 Valdivia496</td>\n",
       "      <td>F</td>\n",
       "      <td>GENERAL PRACTICE</td>\n",
       "      <td>13 MECHANIC ST</td>\n",
       "      <td>BELLINGHAM</td>\n",
       "      <td>MA</td>\n",
       "    </tr>\n",
       "    <tr>\n",
       "      <th>4</th>\n",
       "      <td>68e737e5-a4a1-0ffd-7234-8fb04a2b0c19</td>\n",
       "      <td>23/6/2021 8:20</td>\n",
       "      <td>23/6/2021 8:35</td>\n",
       "      <td>c1f1fcaa-82fd-d5b7-3544-c8f9708b06a8</td>\n",
       "      <td>24cb4eab-6166-3530-bddc-a5a8a14a4fc1</td>\n",
       "      <td>e2d3a787-83d4-3bd9-a769-753b3285078d</td>\n",
       "      <td>outpatient</td>\n",
       "      <td>C698314001</td>\n",
       "      <td>Consultation for treatment</td>\n",
       "      <td>129.16</td>\n",
       "      <td>4086.94</td>\n",
       "      <td>Wilton999 Pollich983</td>\n",
       "      <td>M</td>\n",
       "      <td>GENERAL PRACTICE</td>\n",
       "      <td>14 PROSPECT STREET</td>\n",
       "      <td>MILFORD</td>\n",
       "      <td>MA</td>\n",
       "    </tr>\n",
       "    <tr>\n",
       "      <th>...</th>\n",
       "      <td>...</td>\n",
       "      <td>...</td>\n",
       "      <td>...</td>\n",
       "      <td>...</td>\n",
       "      <td>...</td>\n",
       "      <td>...</td>\n",
       "      <td>...</td>\n",
       "      <td>...</td>\n",
       "      <td>...</td>\n",
       "      <td>...</td>\n",
       "      <td>...</td>\n",
       "      <td>...</td>\n",
       "      <td>...</td>\n",
       "      <td>...</td>\n",
       "      <td>...</td>\n",
       "      <td>...</td>\n",
       "      <td>...</td>\n",
       "    </tr>\n",
       "    <tr>\n",
       "      <th>5095</th>\n",
       "      <td>f60aa3dc-a861-a3c7-6f4d-2bd58f7d973d</td>\n",
       "      <td>21/12/2011 5:11</td>\n",
       "      <td>21/12/2011 5:26</td>\n",
       "      <td>cb1b2c74-d1c5-997c-6f8b-20ca9f332eef</td>\n",
       "      <td>4861d01f-019c-3dac-a153-8334e50919f9</td>\n",
       "      <td>b0c5743a-4f9a-33b3-bab4-6a474fcf9ffd</td>\n",
       "      <td>ambulatory</td>\n",
       "      <td>C390906007</td>\n",
       "      <td>Follow-up encounter</td>\n",
       "      <td>77.49</td>\n",
       "      <td>77.49</td>\n",
       "      <td>Ellan282 Jacobi462</td>\n",
       "      <td>F</td>\n",
       "      <td>GENERAL PRACTICE</td>\n",
       "      <td>81 HIGHLAND AVENUE</td>\n",
       "      <td>SALEM</td>\n",
       "      <td>MA</td>\n",
       "    </tr>\n",
       "    <tr>\n",
       "      <th>5096</th>\n",
       "      <td>88288c66-1201-390a-a309-d70caf3366e0</td>\n",
       "      <td>19/12/2017 5:11</td>\n",
       "      <td>19/12/2017 5:26</td>\n",
       "      <td>cb1b2c74-d1c5-997c-6f8b-20ca9f332eef</td>\n",
       "      <td>4861d01f-019c-3dac-a153-8334e50919f9</td>\n",
       "      <td>b0c5743a-4f9a-33b3-bab4-6a474fcf9ffd</td>\n",
       "      <td>ambulatory</td>\n",
       "      <td>C390906007</td>\n",
       "      <td>Follow-up encounter</td>\n",
       "      <td>77.49</td>\n",
       "      <td>77.49</td>\n",
       "      <td>Ellan282 Jacobi462</td>\n",
       "      <td>F</td>\n",
       "      <td>GENERAL PRACTICE</td>\n",
       "      <td>81 HIGHLAND AVENUE</td>\n",
       "      <td>SALEM</td>\n",
       "      <td>MA</td>\n",
       "    </tr>\n",
       "    <tr>\n",
       "      <th>5097</th>\n",
       "      <td>54d4b63d-e397-ce54-7fd8-5b95848df927</td>\n",
       "      <td>29/12/2017 5:11</td>\n",
       "      <td>29/12/2017 5:26</td>\n",
       "      <td>cb1b2c74-d1c5-997c-6f8b-20ca9f332eef</td>\n",
       "      <td>cd300275-3f4d-3adb-98aa-4e5bba25be24</td>\n",
       "      <td>7cd691a9-0e34-351a-918d-af3f6d3c0279</td>\n",
       "      <td>wellness</td>\n",
       "      <td>C162673000</td>\n",
       "      <td>General examination of patient (procedure)</td>\n",
       "      <td>129.16</td>\n",
       "      <td>1295.48</td>\n",
       "      <td>Lourie532 West559</td>\n",
       "      <td>F</td>\n",
       "      <td>GENERAL PRACTICE</td>\n",
       "      <td>990 PARADISE RD</td>\n",
       "      <td>SWAMPSCOTT</td>\n",
       "      <td>MA</td>\n",
       "    </tr>\n",
       "    <tr>\n",
       "      <th>5098</th>\n",
       "      <td>b171a750-d9a0-f87c-f463-ca8a11ce99e8</td>\n",
       "      <td>21/6/2018 5:51</td>\n",
       "      <td>21/6/2018 6:51</td>\n",
       "      <td>cb1b2c74-d1c5-997c-6f8b-20ca9f332eef</td>\n",
       "      <td>4861d01f-019c-3dac-a153-8334e50919f9</td>\n",
       "      <td>b0c5743a-4f9a-33b3-bab4-6a474fcf9ffd</td>\n",
       "      <td>emergency</td>\n",
       "      <td>C50849002</td>\n",
       "      <td>Emergency room admission (procedure)</td>\n",
       "      <td>129.16</td>\n",
       "      <td>129.16</td>\n",
       "      <td>Ellan282 Jacobi462</td>\n",
       "      <td>F</td>\n",
       "      <td>GENERAL PRACTICE</td>\n",
       "      <td>81 HIGHLAND AVENUE</td>\n",
       "      <td>SALEM</td>\n",
       "      <td>MA</td>\n",
       "    </tr>\n",
       "    <tr>\n",
       "      <th>5099</th>\n",
       "      <td>dc20e0f3-5f9b-0008-ae40-29ed26193987</td>\n",
       "      <td>11/9/2018 5:51</td>\n",
       "      <td>11/9/2018 6:06</td>\n",
       "      <td>cb1b2c74-d1c5-997c-6f8b-20ca9f332eef</td>\n",
       "      <td>4861d01f-019c-3dac-a153-8334e50919f9</td>\n",
       "      <td>b0c5743a-4f9a-33b3-bab4-6a474fcf9ffd</td>\n",
       "      <td>ambulatory</td>\n",
       "      <td>C185349003</td>\n",
       "      <td>Encounter for 'check-up'</td>\n",
       "      <td>77.49</td>\n",
       "      <td>77.49</td>\n",
       "      <td>Ellan282 Jacobi462</td>\n",
       "      <td>F</td>\n",
       "      <td>GENERAL PRACTICE</td>\n",
       "      <td>81 HIGHLAND AVENUE</td>\n",
       "      <td>SALEM</td>\n",
       "      <td>MA</td>\n",
       "    </tr>\n",
       "  </tbody>\n",
       "</table>\n",
       "<p>5100 rows × 17 columns</p>\n",
       "</div>"
      ],
      "text/plain": [
       "                                        ID             START  \\\n",
       "0     c8eaaf41-958b-31ab-7de5-568cee8751f3  27/11/2016 17:20   \n",
       "1     6474f606-5a1b-48c0-bbbf-ad6dcbc24d4e    22/2/2017 8:52   \n",
       "2     7eab9841-6b96-3c2f-d7f8-fc14a8810e68     2/6/2017 9:25   \n",
       "3     676b26cf-85c1-60d8-b4b2-ed9b34d5b3a7    24/7/2017 8:20   \n",
       "4     68e737e5-a4a1-0ffd-7234-8fb04a2b0c19    23/6/2021 8:20   \n",
       "...                                    ...               ...   \n",
       "5095  f60aa3dc-a861-a3c7-6f4d-2bd58f7d973d   21/12/2011 5:11   \n",
       "5096  88288c66-1201-390a-a309-d70caf3366e0   19/12/2017 5:11   \n",
       "5097  54d4b63d-e397-ce54-7fd8-5b95848df927   29/12/2017 5:11   \n",
       "5098  b171a750-d9a0-f87c-f463-ca8a11ce99e8    21/6/2018 5:51   \n",
       "5099  dc20e0f3-5f9b-0008-ae40-29ed26193987    11/9/2018 5:51   \n",
       "\n",
       "                  STOP                               PATIENT  \\\n",
       "0     27/11/2016 17:35  c1f1fcaa-82fd-d5b7-3544-c8f9708b06a8   \n",
       "1       22/2/2017 9:52  c1f1fcaa-82fd-d5b7-3544-c8f9708b06a8   \n",
       "2        2/6/2017 9:40  c1f1fcaa-82fd-d5b7-3544-c8f9708b06a8   \n",
       "3       24/7/2017 8:35  c1f1fcaa-82fd-d5b7-3544-c8f9708b06a8   \n",
       "4       23/6/2021 8:35  c1f1fcaa-82fd-d5b7-3544-c8f9708b06a8   \n",
       "...                ...                                   ...   \n",
       "5095   21/12/2011 5:26  cb1b2c74-d1c5-997c-6f8b-20ca9f332eef   \n",
       "5096   19/12/2017 5:26  cb1b2c74-d1c5-997c-6f8b-20ca9f332eef   \n",
       "5097   29/12/2017 5:26  cb1b2c74-d1c5-997c-6f8b-20ca9f332eef   \n",
       "5098    21/6/2018 6:51  cb1b2c74-d1c5-997c-6f8b-20ca9f332eef   \n",
       "5099    11/9/2018 6:06  cb1b2c74-d1c5-997c-6f8b-20ca9f332eef   \n",
       "\n",
       "                              ORGANIZATION  \\\n",
       "0     24cb4eab-6166-3530-bddc-a5a8a14a4fc1   \n",
       "1     24cb4eab-6166-3530-bddc-a5a8a14a4fc1   \n",
       "2     24cb4eab-6166-3530-bddc-a5a8a14a4fc1   \n",
       "3     620d4a8a-ef3b-30c4-9c58-a409e8f3b7f1   \n",
       "4     24cb4eab-6166-3530-bddc-a5a8a14a4fc1   \n",
       "...                                    ...   \n",
       "5095  4861d01f-019c-3dac-a153-8334e50919f9   \n",
       "5096  4861d01f-019c-3dac-a153-8334e50919f9   \n",
       "5097  cd300275-3f4d-3adb-98aa-4e5bba25be24   \n",
       "5098  4861d01f-019c-3dac-a153-8334e50919f9   \n",
       "5099  4861d01f-019c-3dac-a153-8334e50919f9   \n",
       "\n",
       "                                  PROVIDER ENCOUNTERCLASS        CODE  \\\n",
       "0     e2d3a787-83d4-3bd9-a769-753b3285078d     ambulatory  C185345009   \n",
       "1     e2d3a787-83d4-3bd9-a769-753b3285078d      emergency   C50849002   \n",
       "2     e2d3a787-83d4-3bd9-a769-753b3285078d     ambulatory  C185349003   \n",
       "3     6240e34b-f1a6-374d-af15-dea26341ba2e       wellness  C410620009   \n",
       "4     e2d3a787-83d4-3bd9-a769-753b3285078d     outpatient  C698314001   \n",
       "...                                    ...            ...         ...   \n",
       "5095  b0c5743a-4f9a-33b3-bab4-6a474fcf9ffd     ambulatory  C390906007   \n",
       "5096  b0c5743a-4f9a-33b3-bab4-6a474fcf9ffd     ambulatory  C390906007   \n",
       "5097  7cd691a9-0e34-351a-918d-af3f6d3c0279       wellness  C162673000   \n",
       "5098  b0c5743a-4f9a-33b3-bab4-6a474fcf9ffd      emergency   C50849002   \n",
       "5099  b0c5743a-4f9a-33b3-bab4-6a474fcf9ffd     ambulatory  C185349003   \n",
       "\n",
       "                                     DESCRIPTION  BASE_ENCOUNTER_COST  \\\n",
       "0                          Encounter for symptom                77.49   \n",
       "1           Emergency room admission (procedure)               129.16   \n",
       "2                       Encounter for 'check-up'                77.49   \n",
       "3                   Well child visit (procedure)               129.16   \n",
       "4                     Consultation for treatment               129.16   \n",
       "...                                          ...                  ...   \n",
       "5095                         Follow-up encounter                77.49   \n",
       "5096                         Follow-up encounter                77.49   \n",
       "5097  General examination of patient (procedure)               129.16   \n",
       "5098        Emergency room admission (procedure)               129.16   \n",
       "5099                    Encounter for 'check-up'                77.49   \n",
       "\n",
       "      TOTAL_CLAIM_COST                    NAME GENDER        SPECIALITY  \\\n",
       "0                77.49    Wilton999 Pollich983      M  GENERAL PRACTICE   \n",
       "1              1162.46    Wilton999 Pollich983      M  GENERAL PRACTICE   \n",
       "2                77.49    Wilton999 Pollich983      M  GENERAL PRACTICE   \n",
       "3               926.85  Dolores502 Valdivia496      F  GENERAL PRACTICE   \n",
       "4              4086.94    Wilton999 Pollich983      M  GENERAL PRACTICE   \n",
       "...                ...                     ...    ...               ...   \n",
       "5095             77.49      Ellan282 Jacobi462      F  GENERAL PRACTICE   \n",
       "5096             77.49      Ellan282 Jacobi462      F  GENERAL PRACTICE   \n",
       "5097           1295.48       Lourie532 West559      F  GENERAL PRACTICE   \n",
       "5098            129.16      Ellan282 Jacobi462      F  GENERAL PRACTICE   \n",
       "5099             77.49      Ellan282 Jacobi462      F  GENERAL PRACTICE   \n",
       "\n",
       "                 ADDRESS        CITY STATE  \n",
       "0     14 PROSPECT STREET     MILFORD    MA  \n",
       "1     14 PROSPECT STREET     MILFORD    MA  \n",
       "2     14 PROSPECT STREET     MILFORD    MA  \n",
       "3         13 MECHANIC ST  BELLINGHAM    MA  \n",
       "4     14 PROSPECT STREET     MILFORD    MA  \n",
       "...                  ...         ...   ...  \n",
       "5095  81 HIGHLAND AVENUE       SALEM    MA  \n",
       "5096  81 HIGHLAND AVENUE       SALEM    MA  \n",
       "5097     990 PARADISE RD  SWAMPSCOTT    MA  \n",
       "5098  81 HIGHLAND AVENUE       SALEM    MA  \n",
       "5099  81 HIGHLAND AVENUE       SALEM    MA  \n",
       "\n",
       "[5100 rows x 17 columns]"
      ]
     },
     "execution_count": 15,
     "metadata": {},
     "output_type": "execute_result"
    }
   ],
   "source": [
    "# insert your code here:\n",
    "enc_prov = pd.merge(encounters, providers,left_on = 'PROVIDER', right_on = 'ID', how = 'left')\n",
    "enc_prov.drop(columns = ['ID_y', 'ORGANIZATION_y'], inplace = True)\n",
    "new_names = {'ID_x': 'ID', 'ORGANIZATION_x': 'ORGANIZATION'}\n",
    "enc_prov.rename(columns = new_names, inplace = True)\n",
    "enc_prov"
   ]
  },
  {
   "cell_type": "markdown",
   "id": "f8d47aa4",
   "metadata": {},
   "source": [
    "#### (1.4) Average total claim cost for the GENERAL PRACTICE speciality (and assign the value to a variable)"
   ]
  },
  {
   "cell_type": "code",
   "execution_count": 18,
   "id": "3ec6e70b",
   "metadata": {},
   "outputs": [
    {
     "data": {
      "text/plain": [
       "2882.3099490196078"
      ]
     },
     "execution_count": 18,
     "metadata": {},
     "output_type": "execute_result"
    }
   ],
   "source": [
    "# insert your code here:\n",
    "gp_encprov = enc_prov.loc[enc_prov['SPECIALITY'] == 'GENERAL PRACTICE', :]\n",
    "avg_total = gp_encprov['TOTAL_CLAIM_COST'].mean()\n",
    "avg_total"
   ]
  },
  {
   "cell_type": "markdown",
   "id": "9fe8bab5",
   "metadata": {},
   "source": [
    "#### (1.5) Sample t-test by using the corresponding scipy function to execute the test. \n"
   ]
  },
  {
   "cell_type": "code",
   "execution_count": 22,
   "id": "80cd6169",
   "metadata": {},
   "outputs": [
    {
     "name": "stdout",
     "output_type": "stream",
     "text": [
      "t-stat: 1.2873535070622528\n",
      "p-value: 0.10149919904693568\n"
     ]
    }
   ],
   "source": [
    "# insert your code here:\n",
    "acc_enc = gp_encprov.loc[gp_encprov['PROVIDER'] == 'bb49afa2-3d8a-306c-a06e-a1715dd71af8', :]\n",
    "t_stat, p_val = stats.ttest_1samp(acc_enc['TOTAL_CLAIM_COST'], avg_total, alternative = 'greater')\n",
    "print(f\"t-stat: {t_stat}\")\n",
    "print(f\"p-value: {p_val}\")"
   ]
  },
  {
   "cell_type": "markdown",
   "id": "96e28f82",
   "metadata": {},
   "source": [
    "##### Conclusion(s): \n",
    "- At a 95% confidence level, the p-value is higher than the significance level of 0.05\n",
    "- Therefore, we fail to reject the null hypothesis, and conclude that the average total claim cost for the accused provider = the average total claim cost for other providers of the same specialty."
   ]
  },
  {
   "cell_type": "markdown",
   "id": "dbda11da",
   "metadata": {},
   "source": [
    "___\n",
    "### Part 2 - Two organizations\n",
    "- There are two organizations with similar profiles (types of patients seen, location etc.) for which we want to test whether the total claim costs between them are indeed similar as well. \n",
    "- The IDs of the two organizations are \"226098a2-6a40-3588-b5bb-db56c3a30a04\" and \"108ccece-277a-396f-8bf2-1527f74458eb\""
   ]
  },
  {
   "cell_type": "markdown",
   "id": "f04949c8",
   "metadata": {},
   "source": [
    "#### (2.1) State the null hypothesis and alternative hypothesis (Provide answers in free text).\n",
    "\n",
    "HINT: Consider whether this is a one-tailed or two-tailed test"
   ]
  },
  {
   "cell_type": "markdown",
   "id": "18c6b3e4",
   "metadata": {},
   "source": [
    "##### Enter your hypotheses here:\n",
    "\n",
    "- **Null hypothesis H<sub>0</sub>**: Total claim costs between the two are similar\n",
    "- **Alternative hypothesis H<sub>a</sub>**: Total claim costs between the two are not similar"
   ]
  },
  {
   "cell_type": "markdown",
   "id": "1cbb7354",
   "metadata": {},
   "source": [
    "#### (2.2) Details (name, address etc.) of the two organizations as a single output DataFrame"
   ]
  },
  {
   "cell_type": "code",
   "execution_count": 44,
   "id": "02727af9",
   "metadata": {
    "scrolled": true
   },
   "outputs": [
    {
     "data": {
      "text/html": [
       "<div>\n",
       "<style scoped>\n",
       "    .dataframe tbody tr th:only-of-type {\n",
       "        vertical-align: middle;\n",
       "    }\n",
       "\n",
       "    .dataframe tbody tr th {\n",
       "        vertical-align: top;\n",
       "    }\n",
       "\n",
       "    .dataframe thead th {\n",
       "        text-align: right;\n",
       "    }\n",
       "</style>\n",
       "<table border=\"1\" class=\"dataframe\">\n",
       "  <thead>\n",
       "    <tr style=\"text-align: right;\">\n",
       "      <th></th>\n",
       "      <th>ID</th>\n",
       "      <th>ORGANIZATION</th>\n",
       "      <th>NAME</th>\n",
       "      <th>GENDER</th>\n",
       "      <th>SPECIALITY</th>\n",
       "      <th>ADDRESS</th>\n",
       "      <th>CITY</th>\n",
       "      <th>STATE</th>\n",
       "    </tr>\n",
       "  </thead>\n",
       "  <tbody>\n",
       "    <tr>\n",
       "      <th>46</th>\n",
       "      <td>bb49afa2-3d8a-306c-a06e-a1715dd71af8</td>\n",
       "      <td>226098a2-6a40-3588-b5bb-db56c3a30a04</td>\n",
       "      <td>Hal307 Renner328</td>\n",
       "      <td>M</td>\n",
       "      <td>GENERAL PRACTICE</td>\n",
       "      <td>235 NORTH PEARL STREET</td>\n",
       "      <td>BROCKTON</td>\n",
       "      <td>MA</td>\n",
       "    </tr>\n",
       "    <tr>\n",
       "      <th>5048</th>\n",
       "      <td>23bf510d-5676-3add-a24b-44ec5d8ac145</td>\n",
       "      <td>108ccece-277a-396f-8bf2-1527f74458eb</td>\n",
       "      <td>Eda506 Marvin195</td>\n",
       "      <td>F</td>\n",
       "      <td>GENERAL PRACTICE</td>\n",
       "      <td>51 LOCUST STREET</td>\n",
       "      <td>NORTHAMPTON</td>\n",
       "      <td>MA</td>\n",
       "    </tr>\n",
       "  </tbody>\n",
       "</table>\n",
       "</div>"
      ],
      "text/plain": [
       "                                        ID  \\\n",
       "46    bb49afa2-3d8a-306c-a06e-a1715dd71af8   \n",
       "5048  23bf510d-5676-3add-a24b-44ec5d8ac145   \n",
       "\n",
       "                              ORGANIZATION              NAME GENDER  \\\n",
       "46    226098a2-6a40-3588-b5bb-db56c3a30a04  Hal307 Renner328      M   \n",
       "5048  108ccece-277a-396f-8bf2-1527f74458eb  Eda506 Marvin195      F   \n",
       "\n",
       "            SPECIALITY                 ADDRESS         CITY STATE  \n",
       "46    GENERAL PRACTICE  235 NORTH PEARL STREET     BROCKTON    MA  \n",
       "5048  GENERAL PRACTICE        51 LOCUST STREET  NORTHAMPTON    MA  "
      ]
     },
     "execution_count": 44,
     "metadata": {},
     "output_type": "execute_result"
    }
   ],
   "source": [
    "# insert your code here:\n",
    "two = providers.loc[providers['ORGANIZATION'].isin(['226098a2-6a40-3588-b5bb-db56c3a30a04','108ccece-277a-396f-8bf2-1527f74458eb']),:]\n",
    "two"
   ]
  },
  {
   "cell_type": "markdown",
   "id": "cab2a1bb",
   "metadata": {},
   "source": [
    "#### (2.3) What is the name of the CITY that these two organizations are based in?"
   ]
  },
  {
   "cell_type": "markdown",
   "id": "f72632ca",
   "metadata": {},
   "source": [
    "Brockton and Northampton"
   ]
  },
  {
   "cell_type": "markdown",
   "id": "72f73082",
   "metadata": {},
   "source": [
    "#### (2.4) Total claim costs for each organization"
   ]
  },
  {
   "cell_type": "code",
   "execution_count": 91,
   "id": "b578e5aa",
   "metadata": {},
   "outputs": [],
   "source": [
    "# insert your code here:\n",
    "brock_total = encounters.loc[encounters['ORGANIZATION'] == '226098a2-6a40-3588-b5bb-db56c3a30a04', :].TOTAL_CLAIM_COST\n",
    "north_total = encounters.loc[encounters['ORGANIZATION'] == '108ccece-277a-396f-8bf2-1527f74458eb', :].TOTAL_CLAIM_COST"
   ]
  },
  {
   "cell_type": "markdown",
   "id": "947f5b3d",
   "metadata": {},
   "source": [
    "#### (2.5) Two-sample independent t-test (using the appropriate scipy function)"
   ]
  },
  {
   "cell_type": "code",
   "execution_count": 92,
   "id": "53cae0bb",
   "metadata": {},
   "outputs": [
    {
     "name": "stdout",
     "output_type": "stream",
     "text": [
      "t-stat: 0.39771000475581114\n",
      "p-value: 0.6922100176419317\n"
     ]
    },
    {
     "name": "stderr",
     "output_type": "stream",
     "text": [
      "/Users/elizabethteo/Library/Python/3.9/lib/python/site-packages/scipy/stats/_axis_nan_policy.py:523: RuntimeWarning: Precision loss occurred in moment calculation due to catastrophic cancellation. This occurs when the data are nearly identical. Results may be unreliable.\n",
      "  res = hypotest_fun_out(*samples, **kwds)\n"
     ]
    }
   ],
   "source": [
    "# insert your code here:\n",
    "t_stat, p_value = stats.ttest_ind(brock_total, north_total)\n",
    "print(f\"t-stat: {t_stat}\")\n",
    "print(f\"p-value: {p_value}\")"
   ]
  },
  {
   "cell_type": "markdown",
   "id": "1229a752",
   "metadata": {},
   "source": [
    "#### (2.6) Conclusion"
   ]
  },
  {
   "cell_type": "markdown",
   "id": "c0fa2d6e",
   "metadata": {},
   "source": [
    "- At a 95% confidence level, the p-value is higher than the significance level of 0.05\n",
    "- Therefore, we fail to reject the null hypothesis, and conclude that the average total claim costs between the two organizations are similar"
   ]
  },
  {
   "cell_type": "markdown",
   "id": "34b7292c",
   "metadata": {},
   "source": [
    "___\n",
    "### Part 3 - More than two organizations\n",
    "\n",
    "- The insurer is now keen to review the average total claim costs of PCPs (private clinical practices) within a particular set of cities, and to see if one or more of them has a significantly different (higher or lower) average dollar cost from the rest\n",
    "- The set of cities include **AVON** and **WATERTOWN**."
   ]
  },
  {
   "cell_type": "markdown",
   "id": "e1fe8495",
   "metadata": {},
   "source": [
    "#### (3.1) Organization information involved in each encounter. "
   ]
  },
  {
   "cell_type": "code",
   "execution_count": 68,
   "id": "a88e0dc8",
   "metadata": {
    "scrolled": true
   },
   "outputs": [
    {
     "data": {
      "text/html": [
       "<div>\n",
       "<style scoped>\n",
       "    .dataframe tbody tr th:only-of-type {\n",
       "        vertical-align: middle;\n",
       "    }\n",
       "\n",
       "    .dataframe tbody tr th {\n",
       "        vertical-align: top;\n",
       "    }\n",
       "\n",
       "    .dataframe thead th {\n",
       "        text-align: right;\n",
       "    }\n",
       "</style>\n",
       "<table border=\"1\" class=\"dataframe\">\n",
       "  <thead>\n",
       "    <tr style=\"text-align: right;\">\n",
       "      <th></th>\n",
       "      <th>ID</th>\n",
       "      <th>START</th>\n",
       "      <th>STOP</th>\n",
       "      <th>PATIENT</th>\n",
       "      <th>ORGANIZATION</th>\n",
       "      <th>PROVIDER</th>\n",
       "      <th>ENCOUNTERCLASS</th>\n",
       "      <th>CODE</th>\n",
       "      <th>DESCRIPTION</th>\n",
       "      <th>BASE_ENCOUNTER_COST</th>\n",
       "      <th>TOTAL_CLAIM_COST</th>\n",
       "      <th>NAME</th>\n",
       "      <th>CITY</th>\n",
       "    </tr>\n",
       "  </thead>\n",
       "  <tbody>\n",
       "    <tr>\n",
       "      <th>0</th>\n",
       "      <td>c8eaaf41-958b-31ab-7de5-568cee8751f3</td>\n",
       "      <td>27/11/2016 17:20</td>\n",
       "      <td>27/11/2016 17:35</td>\n",
       "      <td>c1f1fcaa-82fd-d5b7-3544-c8f9708b06a8</td>\n",
       "      <td>24cb4eab-6166-3530-bddc-a5a8a14a4fc1</td>\n",
       "      <td>e2d3a787-83d4-3bd9-a769-753b3285078d</td>\n",
       "      <td>ambulatory</td>\n",
       "      <td>C185345009</td>\n",
       "      <td>Encounter for symptom</td>\n",
       "      <td>77.49</td>\n",
       "      <td>77.49</td>\n",
       "      <td>MILFORD REGIONAL MEDICAL CENTER</td>\n",
       "      <td>MILFORD</td>\n",
       "    </tr>\n",
       "    <tr>\n",
       "      <th>1</th>\n",
       "      <td>6474f606-5a1b-48c0-bbbf-ad6dcbc24d4e</td>\n",
       "      <td>22/2/2017 8:52</td>\n",
       "      <td>22/2/2017 9:52</td>\n",
       "      <td>c1f1fcaa-82fd-d5b7-3544-c8f9708b06a8</td>\n",
       "      <td>24cb4eab-6166-3530-bddc-a5a8a14a4fc1</td>\n",
       "      <td>e2d3a787-83d4-3bd9-a769-753b3285078d</td>\n",
       "      <td>emergency</td>\n",
       "      <td>C50849002</td>\n",
       "      <td>Emergency room admission (procedure)</td>\n",
       "      <td>129.16</td>\n",
       "      <td>1162.46</td>\n",
       "      <td>MILFORD REGIONAL MEDICAL CENTER</td>\n",
       "      <td>MILFORD</td>\n",
       "    </tr>\n",
       "    <tr>\n",
       "      <th>2</th>\n",
       "      <td>7eab9841-6b96-3c2f-d7f8-fc14a8810e68</td>\n",
       "      <td>2/6/2017 9:25</td>\n",
       "      <td>2/6/2017 9:40</td>\n",
       "      <td>c1f1fcaa-82fd-d5b7-3544-c8f9708b06a8</td>\n",
       "      <td>24cb4eab-6166-3530-bddc-a5a8a14a4fc1</td>\n",
       "      <td>e2d3a787-83d4-3bd9-a769-753b3285078d</td>\n",
       "      <td>ambulatory</td>\n",
       "      <td>C185349003</td>\n",
       "      <td>Encounter for 'check-up'</td>\n",
       "      <td>77.49</td>\n",
       "      <td>77.49</td>\n",
       "      <td>MILFORD REGIONAL MEDICAL CENTER</td>\n",
       "      <td>MILFORD</td>\n",
       "    </tr>\n",
       "    <tr>\n",
       "      <th>3</th>\n",
       "      <td>676b26cf-85c1-60d8-b4b2-ed9b34d5b3a7</td>\n",
       "      <td>24/7/2017 8:20</td>\n",
       "      <td>24/7/2017 8:35</td>\n",
       "      <td>c1f1fcaa-82fd-d5b7-3544-c8f9708b06a8</td>\n",
       "      <td>620d4a8a-ef3b-30c4-9c58-a409e8f3b7f1</td>\n",
       "      <td>6240e34b-f1a6-374d-af15-dea26341ba2e</td>\n",
       "      <td>wellness</td>\n",
       "      <td>C410620009</td>\n",
       "      <td>Well child visit (procedure)</td>\n",
       "      <td>129.16</td>\n",
       "      <td>926.85</td>\n",
       "      <td>POSTUM EYE CARE INC</td>\n",
       "      <td>BELLINGHAM</td>\n",
       "    </tr>\n",
       "    <tr>\n",
       "      <th>4</th>\n",
       "      <td>68e737e5-a4a1-0ffd-7234-8fb04a2b0c19</td>\n",
       "      <td>23/6/2021 8:20</td>\n",
       "      <td>23/6/2021 8:35</td>\n",
       "      <td>c1f1fcaa-82fd-d5b7-3544-c8f9708b06a8</td>\n",
       "      <td>24cb4eab-6166-3530-bddc-a5a8a14a4fc1</td>\n",
       "      <td>e2d3a787-83d4-3bd9-a769-753b3285078d</td>\n",
       "      <td>outpatient</td>\n",
       "      <td>C698314001</td>\n",
       "      <td>Consultation for treatment</td>\n",
       "      <td>129.16</td>\n",
       "      <td>4086.94</td>\n",
       "      <td>MILFORD REGIONAL MEDICAL CENTER</td>\n",
       "      <td>MILFORD</td>\n",
       "    </tr>\n",
       "    <tr>\n",
       "      <th>...</th>\n",
       "      <td>...</td>\n",
       "      <td>...</td>\n",
       "      <td>...</td>\n",
       "      <td>...</td>\n",
       "      <td>...</td>\n",
       "      <td>...</td>\n",
       "      <td>...</td>\n",
       "      <td>...</td>\n",
       "      <td>...</td>\n",
       "      <td>...</td>\n",
       "      <td>...</td>\n",
       "      <td>...</td>\n",
       "      <td>...</td>\n",
       "    </tr>\n",
       "    <tr>\n",
       "      <th>5095</th>\n",
       "      <td>f60aa3dc-a861-a3c7-6f4d-2bd58f7d973d</td>\n",
       "      <td>21/12/2011 5:11</td>\n",
       "      <td>21/12/2011 5:26</td>\n",
       "      <td>cb1b2c74-d1c5-997c-6f8b-20ca9f332eef</td>\n",
       "      <td>4861d01f-019c-3dac-a153-8334e50919f9</td>\n",
       "      <td>b0c5743a-4f9a-33b3-bab4-6a474fcf9ffd</td>\n",
       "      <td>ambulatory</td>\n",
       "      <td>C390906007</td>\n",
       "      <td>Follow-up encounter</td>\n",
       "      <td>77.49</td>\n",
       "      <td>77.49</td>\n",
       "      <td>NORTH SHORE MEDICAL CENTER -</td>\n",
       "      <td>SALEM</td>\n",
       "    </tr>\n",
       "    <tr>\n",
       "      <th>5096</th>\n",
       "      <td>88288c66-1201-390a-a309-d70caf3366e0</td>\n",
       "      <td>19/12/2017 5:11</td>\n",
       "      <td>19/12/2017 5:26</td>\n",
       "      <td>cb1b2c74-d1c5-997c-6f8b-20ca9f332eef</td>\n",
       "      <td>4861d01f-019c-3dac-a153-8334e50919f9</td>\n",
       "      <td>b0c5743a-4f9a-33b3-bab4-6a474fcf9ffd</td>\n",
       "      <td>ambulatory</td>\n",
       "      <td>C390906007</td>\n",
       "      <td>Follow-up encounter</td>\n",
       "      <td>77.49</td>\n",
       "      <td>77.49</td>\n",
       "      <td>NORTH SHORE MEDICAL CENTER -</td>\n",
       "      <td>SALEM</td>\n",
       "    </tr>\n",
       "    <tr>\n",
       "      <th>5097</th>\n",
       "      <td>54d4b63d-e397-ce54-7fd8-5b95848df927</td>\n",
       "      <td>29/12/2017 5:11</td>\n",
       "      <td>29/12/2017 5:26</td>\n",
       "      <td>cb1b2c74-d1c5-997c-6f8b-20ca9f332eef</td>\n",
       "      <td>cd300275-3f4d-3adb-98aa-4e5bba25be24</td>\n",
       "      <td>7cd691a9-0e34-351a-918d-af3f6d3c0279</td>\n",
       "      <td>wellness</td>\n",
       "      <td>C162673000</td>\n",
       "      <td>General examination of patient (procedure)</td>\n",
       "      <td>129.16</td>\n",
       "      <td>1295.48</td>\n",
       "      <td>PCP191696</td>\n",
       "      <td>SWAMPSCOTT</td>\n",
       "    </tr>\n",
       "    <tr>\n",
       "      <th>5098</th>\n",
       "      <td>b171a750-d9a0-f87c-f463-ca8a11ce99e8</td>\n",
       "      <td>21/6/2018 5:51</td>\n",
       "      <td>21/6/2018 6:51</td>\n",
       "      <td>cb1b2c74-d1c5-997c-6f8b-20ca9f332eef</td>\n",
       "      <td>4861d01f-019c-3dac-a153-8334e50919f9</td>\n",
       "      <td>b0c5743a-4f9a-33b3-bab4-6a474fcf9ffd</td>\n",
       "      <td>emergency</td>\n",
       "      <td>C50849002</td>\n",
       "      <td>Emergency room admission (procedure)</td>\n",
       "      <td>129.16</td>\n",
       "      <td>129.16</td>\n",
       "      <td>NORTH SHORE MEDICAL CENTER -</td>\n",
       "      <td>SALEM</td>\n",
       "    </tr>\n",
       "    <tr>\n",
       "      <th>5099</th>\n",
       "      <td>dc20e0f3-5f9b-0008-ae40-29ed26193987</td>\n",
       "      <td>11/9/2018 5:51</td>\n",
       "      <td>11/9/2018 6:06</td>\n",
       "      <td>cb1b2c74-d1c5-997c-6f8b-20ca9f332eef</td>\n",
       "      <td>4861d01f-019c-3dac-a153-8334e50919f9</td>\n",
       "      <td>b0c5743a-4f9a-33b3-bab4-6a474fcf9ffd</td>\n",
       "      <td>ambulatory</td>\n",
       "      <td>C185349003</td>\n",
       "      <td>Encounter for 'check-up'</td>\n",
       "      <td>77.49</td>\n",
       "      <td>77.49</td>\n",
       "      <td>NORTH SHORE MEDICAL CENTER -</td>\n",
       "      <td>SALEM</td>\n",
       "    </tr>\n",
       "  </tbody>\n",
       "</table>\n",
       "<p>5100 rows × 13 columns</p>\n",
       "</div>"
      ],
      "text/plain": [
       "                                        ID             START  \\\n",
       "0     c8eaaf41-958b-31ab-7de5-568cee8751f3  27/11/2016 17:20   \n",
       "1     6474f606-5a1b-48c0-bbbf-ad6dcbc24d4e    22/2/2017 8:52   \n",
       "2     7eab9841-6b96-3c2f-d7f8-fc14a8810e68     2/6/2017 9:25   \n",
       "3     676b26cf-85c1-60d8-b4b2-ed9b34d5b3a7    24/7/2017 8:20   \n",
       "4     68e737e5-a4a1-0ffd-7234-8fb04a2b0c19    23/6/2021 8:20   \n",
       "...                                    ...               ...   \n",
       "5095  f60aa3dc-a861-a3c7-6f4d-2bd58f7d973d   21/12/2011 5:11   \n",
       "5096  88288c66-1201-390a-a309-d70caf3366e0   19/12/2017 5:11   \n",
       "5097  54d4b63d-e397-ce54-7fd8-5b95848df927   29/12/2017 5:11   \n",
       "5098  b171a750-d9a0-f87c-f463-ca8a11ce99e8    21/6/2018 5:51   \n",
       "5099  dc20e0f3-5f9b-0008-ae40-29ed26193987    11/9/2018 5:51   \n",
       "\n",
       "                  STOP                               PATIENT  \\\n",
       "0     27/11/2016 17:35  c1f1fcaa-82fd-d5b7-3544-c8f9708b06a8   \n",
       "1       22/2/2017 9:52  c1f1fcaa-82fd-d5b7-3544-c8f9708b06a8   \n",
       "2        2/6/2017 9:40  c1f1fcaa-82fd-d5b7-3544-c8f9708b06a8   \n",
       "3       24/7/2017 8:35  c1f1fcaa-82fd-d5b7-3544-c8f9708b06a8   \n",
       "4       23/6/2021 8:35  c1f1fcaa-82fd-d5b7-3544-c8f9708b06a8   \n",
       "...                ...                                   ...   \n",
       "5095   21/12/2011 5:26  cb1b2c74-d1c5-997c-6f8b-20ca9f332eef   \n",
       "5096   19/12/2017 5:26  cb1b2c74-d1c5-997c-6f8b-20ca9f332eef   \n",
       "5097   29/12/2017 5:26  cb1b2c74-d1c5-997c-6f8b-20ca9f332eef   \n",
       "5098    21/6/2018 6:51  cb1b2c74-d1c5-997c-6f8b-20ca9f332eef   \n",
       "5099    11/9/2018 6:06  cb1b2c74-d1c5-997c-6f8b-20ca9f332eef   \n",
       "\n",
       "                              ORGANIZATION  \\\n",
       "0     24cb4eab-6166-3530-bddc-a5a8a14a4fc1   \n",
       "1     24cb4eab-6166-3530-bddc-a5a8a14a4fc1   \n",
       "2     24cb4eab-6166-3530-bddc-a5a8a14a4fc1   \n",
       "3     620d4a8a-ef3b-30c4-9c58-a409e8f3b7f1   \n",
       "4     24cb4eab-6166-3530-bddc-a5a8a14a4fc1   \n",
       "...                                    ...   \n",
       "5095  4861d01f-019c-3dac-a153-8334e50919f9   \n",
       "5096  4861d01f-019c-3dac-a153-8334e50919f9   \n",
       "5097  cd300275-3f4d-3adb-98aa-4e5bba25be24   \n",
       "5098  4861d01f-019c-3dac-a153-8334e50919f9   \n",
       "5099  4861d01f-019c-3dac-a153-8334e50919f9   \n",
       "\n",
       "                                  PROVIDER ENCOUNTERCLASS        CODE  \\\n",
       "0     e2d3a787-83d4-3bd9-a769-753b3285078d     ambulatory  C185345009   \n",
       "1     e2d3a787-83d4-3bd9-a769-753b3285078d      emergency   C50849002   \n",
       "2     e2d3a787-83d4-3bd9-a769-753b3285078d     ambulatory  C185349003   \n",
       "3     6240e34b-f1a6-374d-af15-dea26341ba2e       wellness  C410620009   \n",
       "4     e2d3a787-83d4-3bd9-a769-753b3285078d     outpatient  C698314001   \n",
       "...                                    ...            ...         ...   \n",
       "5095  b0c5743a-4f9a-33b3-bab4-6a474fcf9ffd     ambulatory  C390906007   \n",
       "5096  b0c5743a-4f9a-33b3-bab4-6a474fcf9ffd     ambulatory  C390906007   \n",
       "5097  7cd691a9-0e34-351a-918d-af3f6d3c0279       wellness  C162673000   \n",
       "5098  b0c5743a-4f9a-33b3-bab4-6a474fcf9ffd      emergency   C50849002   \n",
       "5099  b0c5743a-4f9a-33b3-bab4-6a474fcf9ffd     ambulatory  C185349003   \n",
       "\n",
       "                                     DESCRIPTION  BASE_ENCOUNTER_COST  \\\n",
       "0                          Encounter for symptom                77.49   \n",
       "1           Emergency room admission (procedure)               129.16   \n",
       "2                       Encounter for 'check-up'                77.49   \n",
       "3                   Well child visit (procedure)               129.16   \n",
       "4                     Consultation for treatment               129.16   \n",
       "...                                          ...                  ...   \n",
       "5095                         Follow-up encounter                77.49   \n",
       "5096                         Follow-up encounter                77.49   \n",
       "5097  General examination of patient (procedure)               129.16   \n",
       "5098        Emergency room admission (procedure)               129.16   \n",
       "5099                    Encounter for 'check-up'                77.49   \n",
       "\n",
       "      TOTAL_CLAIM_COST                             NAME        CITY  \n",
       "0                77.49  MILFORD REGIONAL MEDICAL CENTER     MILFORD  \n",
       "1              1162.46  MILFORD REGIONAL MEDICAL CENTER     MILFORD  \n",
       "2                77.49  MILFORD REGIONAL MEDICAL CENTER     MILFORD  \n",
       "3               926.85              POSTUM EYE CARE INC  BELLINGHAM  \n",
       "4              4086.94  MILFORD REGIONAL MEDICAL CENTER     MILFORD  \n",
       "...                ...                              ...         ...  \n",
       "5095             77.49     NORTH SHORE MEDICAL CENTER -       SALEM  \n",
       "5096             77.49     NORTH SHORE MEDICAL CENTER -       SALEM  \n",
       "5097           1295.48                        PCP191696  SWAMPSCOTT  \n",
       "5098            129.16     NORTH SHORE MEDICAL CENTER -       SALEM  \n",
       "5099             77.49     NORTH SHORE MEDICAL CENTER -       SALEM  \n",
       "\n",
       "[5100 rows x 13 columns]"
      ]
     },
     "execution_count": 68,
     "metadata": {},
     "output_type": "execute_result"
    }
   ],
   "source": [
    "# insert your code here\n",
    "enc_org = pd.merge(encounters, organizations[['ID', 'NAME', 'CITY']],left_on = 'ORGANIZATION', right_on = 'ID', how = 'left')\n",
    "enc_org.drop(columns = 'ID_y', inplace = True)\n",
    "col_names = {'ID_x': 'ID'}\n",
    "enc_org.rename(columns = new_names, inplace = True)\n",
    "enc_org"
   ]
  },
  {
   "cell_type": "markdown",
   "id": "3295efe4",
   "metadata": {},
   "source": [
    "#### (3.2) From the output DataFrame above, filter the data based on the following criteria:\n",
    "- Name of organization has 'PCP' in it (Hint: Use .str.contains)\n",
    "- Cities of AVON and WATERTOWN (Hint: Use .isin)"
   ]
  },
  {
   "cell_type": "code",
   "execution_count": 75,
   "id": "b5867566",
   "metadata": {},
   "outputs": [],
   "source": [
    "# insert your code here:\n",
    "fil_data = enc_org.loc[enc_org['NAME'].str.contains('PCP') & enc_org['CITY'].isin(['AVON', 'WATERTOWN']), :]"
   ]
  },
  {
   "cell_type": "markdown",
   "id": "b5a1ae41",
   "metadata": {},
   "source": [
    "#### (3.3) From the output above, how many PCPs are we investigating, and what are the names of these PCPs"
   ]
  },
  {
   "cell_type": "code",
   "execution_count": 86,
   "id": "58a6f6f7",
   "metadata": {},
   "outputs": [
    {
     "data": {
      "text/plain": [
       "4"
      ]
     },
     "execution_count": 86,
     "metadata": {},
     "output_type": "execute_result"
    }
   ],
   "source": [
    "# insert your code here:\n",
    "fil_data['NAME'].nunique()"
   ]
  },
  {
   "cell_type": "markdown",
   "id": "35a8106f",
   "metadata": {},
   "source": [
    "There are 4 PCP organizations to be reviewed in Avon and Watertown"
   ]
  },
  {
   "cell_type": "markdown",
   "id": "789d5d23",
   "metadata": {},
   "source": [
    "##### Hypotheses:\n",
    "\n",
    "- **Null hypothesis H<sub>0</sub>**: The mean of PCP organizations in Avon and Watertown is equal to the overall mean.\n",
    "- **Alternative hypothesis H<sub>a</sub>**: At least one PCP organization in Avon and Watertown differs significantly from the overall mean."
   ]
  },
  {
   "cell_type": "markdown",
   "id": "26591c4b",
   "metadata": {},
   "source": [
    "#### (3.5) Claim costs for each organization "
   ]
  },
  {
   "cell_type": "code",
   "execution_count": 90,
   "id": "812facad",
   "metadata": {},
   "outputs": [],
   "source": [
    "# insert your code here:\n",
    "org = fil_data['NAME'].unique()\n",
    "PCP1 = fil_data.loc[fil_data['NAME'] == org[0], :].TOTAL_CLAIM_COST\n",
    "PCP2 = fil_data.loc[fil_data['NAME'] == org[1], :].TOTAL_CLAIM_COST\n",
    "PCP3 = fil_data.loc[fil_data['NAME'] == org[2], :].TOTAL_CLAIM_COST\n",
    "PCP4 = fil_data.loc[fil_data['NAME'] == org[3], :].TOTAL_CLAIM_COST"
   ]
  },
  {
   "cell_type": "markdown",
   "id": "dda9036e",
   "metadata": {},
   "source": [
    "#### (3.6) Based on the context, claim cost variables (from step 3.5) and following assumptions, select and perform the appropriate test (using scipy) to evaluate the hypothesis\n",
    "\n",
    "Assumptions to be made:\n",
    "- Samples are independent.\n",
    "- Each sample is from a normally distributed population.\n",
    "- Population standard deviations of the groups are all equal (i.e., homoscedasticity)"
   ]
  },
  {
   "cell_type": "code",
   "execution_count": 93,
   "id": "e6d01284",
   "metadata": {},
   "outputs": [
    {
     "name": "stdout",
     "output_type": "stream",
     "text": [
      "t-stat: 6.540424475856285\n",
      "p-value: 0.0019195709059467696\n"
     ]
    },
    {
     "name": "stderr",
     "output_type": "stream",
     "text": [
      "/var/folders/jz/5l72krd14rz_f5f2cyx94fvm0000gn/T/ipykernel_1280/477977860.py:2: DeprecationWarning: Please use `f_oneway` from the `scipy.stats` namespace, the `scipy.stats.stats` namespace is deprecated.\n",
      "  t_stat, p_value = stats.stats.f_oneway(PCP1, PCP2, PCP3, PCP4)\n"
     ]
    }
   ],
   "source": [
    "# insert your code here:\n",
    "t_stat, p_value = stats.stats.f_oneway(PCP1, PCP2, PCP3, PCP4)\n",
    "print(f\"t-stat: {t_stat}\")\n",
    "print(f\"p-value: {p_value}\")"
   ]
  },
  {
   "cell_type": "markdown",
   "id": "f705edcd",
   "metadata": {},
   "source": [
    "##### Conclusion(s):\n",
    "- At a 95% confidence level, the p-value is lower than the significance level of 0.05\n",
    "- Therefore, we reject the null hypothesis, and conclude that at least one PCP organization in Avon and Watertown differs significantly from the overall mean."
   ]
  },
  {
   "cell_type": "markdown",
   "id": "e4125126",
   "metadata": {},
   "source": [
    "___\n",
    "### Part 4 - Proportions across two providers\n",
    "- To account for differences in total claim costs across two doctors (i.e., providers), the insurer is looking to test if there is any significant differences in the proportion of encounter classes (e.g., outpatient, inpatient etc.) that they each have to handle.\n",
    "- The providers to be evaluated are as follows:\n",
    "  - ID of Provider 1: **b0c5743a-4f9a-33b3-bab4-6a474fcf9ffd** \n",
    "  - ID of Provider 2: **fc897c25-b2ee-30c5-a945-d0eb13a1f96e**"
   ]
  },
  {
   "cell_type": "markdown",
   "id": "28e880b7",
   "metadata": {},
   "source": [
    "#### (4.1) Filter data to the two providers (as a single output DataFrame)\n",
    "- From the encounters dataset, filter the rows to records belonging to the two providers with the IDs above\n",
    "- Next, keep only the following columns: `ID`, `PROVIDER`, and `ENCOUNTERCLASS`"
   ]
  },
  {
   "cell_type": "code",
   "execution_count": 98,
   "id": "679eaaf6",
   "metadata": {},
   "outputs": [],
   "source": [
    "# insert your code here:\n",
    "fil_prov = encounters.loc[encounters['PROVIDER'].isin(['b0c5743a-4f9a-33b3-bab4-6a474fcf9ffd','fc897c25-b2ee-30c5-a945-d0eb13a1f96e']),['ID','PROVIDER','ENCOUNTERCLASS']]"
   ]
  },
  {
   "cell_type": "markdown",
   "id": "07d0f678",
   "metadata": {},
   "source": [
    "#### (4.2) Cross tabulation table (with totals)"
   ]
  },
  {
   "attachments": {
    "image-2.png": {
     "image/png": "[encoded data removed]"
    }
   },
   "cell_type": "markdown",
   "id": "c6c5ecc9",
   "metadata": {},
   "source": [
    "![image-2.png](attachment:image-2.png)"
   ]
  },
  {
   "cell_type": "code",
   "execution_count": 113,
   "id": "7ee604c1",
   "metadata": {},
   "outputs": [],
   "source": [
    "# insert your code here:\n",
    "df_crosstab = pd.crosstab(fil_prov['PROVIDER'],fil_prov['ENCOUNTERCLASS'], margins = True)"
   ]
  },
  {
   "cell_type": "code",
   "execution_count": 114,
   "id": "7a7aa7f1",
   "metadata": {},
   "outputs": [],
   "source": [
    "# insert your code here:\n",
    "df_crosstab.index = ['provider_1', 'provider_2', 'col_total']\n",
    "df_crosstab.columns = ['ambulatory', 'emergency', 'inpatient', 'outpatient', 'row_total']"
   ]
  },
  {
   "cell_type": "code",
   "execution_count": 115,
   "id": "b7916f99",
   "metadata": {},
   "outputs": [],
   "source": [
    "# insert your code here:\n",
    "df_crosstab_cont = df_crosstab.drop(index='col_total', columns='row_total')"
   ]
  },
  {
   "cell_type": "markdown",
   "id": "3bb556fc",
   "metadata": {},
   "source": [
    "##### Hypotheses:\n",
    "\n",
    "- **Null hypothesis H<sub>0</sub>**: There is no difference in the count frequencies of encounter classes seen by the two providers\n",
    "- **Alternative hypothesis H<sub>a</sub>**: There is a significant difference in the count frequencies of encounter classes seen by the two providers."
   ]
  },
  {
   "cell_type": "markdown",
   "id": "31a49a5a",
   "metadata": {},
   "source": [
    "#### (4.5) Chi-square test of independence"
   ]
  },
  {
   "cell_type": "code",
   "execution_count": 119,
   "id": "16e85e6b",
   "metadata": {},
   "outputs": [
    {
     "name": "stdout",
     "output_type": "stream",
     "text": [
      "chisq stat: 3.9884421134421144 \n",
      "p-value: 0.26271488055913067 \n",
      "Degrees of freedom: 3 \n",
      "Expected_counts:\n",
      " [[66.51162791  6.13953488  1.53488372 35.81395349]\n",
      " [63.48837209  5.86046512  1.46511628 34.18604651]]\n"
     ]
    }
   ],
   "source": [
    "# insert your code here:\n",
    "chi2, pval, dof, expected_obs = stats.chi2_contingency(df_crosstab_cont)\n",
    "print(f\"chisq stat: {chi2} \\np-value: {pval} \\nDegrees of freedom: {dof} \\nExpected_counts:\\n {expected_obs}\")"
   ]
  },
  {
   "cell_type": "markdown",
   "id": "29b67487",
   "metadata": {},
   "source": [
    "#### (4.6) From the function output above, what is the p-value of the chi-square test of independence?"
   ]
  },
  {
   "cell_type": "code",
   "execution_count": 120,
   "id": "55caec6a",
   "metadata": {},
   "outputs": [
    {
     "name": "stdout",
     "output_type": "stream",
     "text": [
      "p-value: 0.26271488055913067\n"
     ]
    }
   ],
   "source": [
    "# insert your code here:\n",
    "print(f\"p-value: {pval}\")"
   ]
  },
  {
   "cell_type": "markdown",
   "id": "b315d3c2",
   "metadata": {},
   "source": [
    "##### Conclusion:\n",
    "- At a 95% confidence level, the p-value is higher than the significance level of 0.05\n",
    "- Therefore, we fail to reject the null hypothesis, and conclude that there is no difference in the count frequencies of encounter classes seen by the two providers."
   ]
  },
  {
   "cell_type": "markdown",
   "id": "bc59bec9",
   "metadata": {},
   "source": [
    "___"
   ]
  }
 ],
 "metadata": {
  "kernelspec": {
   "display_name": "Python 3 (ipykernel)",
   "language": "python",
   "name": "python3"
  },
  "language_info": {
   "codemirror_mode": {
    "name": "ipython",
    "version": 3
   },
   "file_extension": ".py",
   "mimetype": "text/x-python",
   "name": "python",
   "nbconvert_exporter": "python",
   "pygments_lexer": "ipython3",
   "version": "3.9.6"
  }
 },
 "nbformat": 4,
 "nbformat_minor": 5
}
